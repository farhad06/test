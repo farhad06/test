{
 "cells": [
  {
   "cell_type": "code",
   "execution_count": 1,
   "id": "113b468c",
   "metadata": {},
   "outputs": [],
   "source": [
    "import pandas as pd\n",
    "import math"
   ]
  },
  {
   "cell_type": "code",
   "execution_count": 2,
   "id": "910d532b",
   "metadata": {},
   "outputs": [
    {
     "name": "stdout",
     "output_type": "stream",
     "text": [
      "Hello Github!!\n"
     ]
    }
   ],
   "source": [
    "print(\"Hello Github!!\")"
   ]
  },
  {
   "cell_type": "code",
   "execution_count": 1,
   "id": "f33d06e1",
   "metadata": {},
   "outputs": [
    {
     "name": "stdout",
     "output_type": "stream",
     "text": [
      "This is a sum  13\n"
     ]
    }
   ],
   "source": [
    "print(\"This is a sum \",5+8)"
   ]
  },
  {
   "cell_type": "code",
   "execution_count": 2,
   "id": "26840c85",
   "metadata": {},
   "outputs": [
    {
     "name": "stdout",
     "output_type": "stream",
     "text": [
      "49\n"
     ]
    }
   ],
   "source": [
    "print(7**2)"
   ]
  },
  {
   "cell_type": "code",
   "execution_count": null,
   "id": "bf1ffc36",
   "metadata": {},
   "outputs": [],
   "source": []
  }
 ],
 "metadata": {
  "kernelspec": {
   "display_name": "Python 3 (ipykernel)",
   "language": "python",
   "name": "python3"
  },
  "language_info": {
   "codemirror_mode": {
    "name": "ipython",
    "version": 3
   },
   "file_extension": ".py",
   "mimetype": "text/x-python",
   "name": "python",
   "nbconvert_exporter": "python",
   "pygments_lexer": "ipython3",
   "version": "3.9.7"
  },
  "vscode": {
   "interpreter": {
    "hash": "f08154012ddadd8e950e6e9e035c7a7b32c136e7647e9b7c77e02eb723a8bedb"
   }
  }
 },
 "nbformat": 4,
 "nbformat_minor": 5
}
